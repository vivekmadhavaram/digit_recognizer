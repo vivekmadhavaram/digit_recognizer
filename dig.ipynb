{
 "cells": [
  {
   "cell_type": "code",
   "execution_count": 1,
   "metadata": {},
   "outputs": [
    {
     "name": "stderr",
     "output_type": "stream",
     "text": [
      "Using TensorFlow backend.\n"
     ]
    }
   ],
   "source": [
    "import numpy as np\n",
    "import pandas as pd\n",
    "import keras\n",
    "from keras.models import Model\n",
    "from keras.layers import *\n",
    "from keras import optimizers\n",
    "from sklearn.model_selection import train_test_split\n",
    "train=pd.read_csv(\"train.csv\")\n",
    "test=pd.read_csv(\"test.csv\")\n",
    "train=np.matrix(train)\n",
    "test=np.matrix(test)\n",
    "features=train[:,1:785]\n",
    "label=train[:,0:1]\n",
    "trainx,valx,trainy,valy = train_test_split(features, label, \n",
    "                                                test_size = 0.2,\n",
    "                                                random_state = 1212)"
   ]
  },
  {
   "cell_type": "code",
   "execution_count": 2,
   "metadata": {
    "collapsed": true
   },
   "outputs": [],
   "source": [
    "trainx=trainx.astype('float32')/255\n",
    "valx=valx.astype('float32')/255\n",
    "test=test.astype('float32')/255\n",
    "trainy = keras.utils.to_categorical(trainy,10)\n",
    "valy= keras.utils.to_categorical(valy,10)"
   ]
  },
  {
   "cell_type": "code",
   "execution_count": 3,
   "metadata": {},
   "outputs": [
    {
     "name": "stdout",
     "output_type": "stream",
     "text": [
      "Epoch 1/20\n",
      "33600/33600 [==============================] - 4s 117us/step - loss: 0.0583 - acc: 0.9801\n",
      "Epoch 2/20\n",
      "33600/33600 [==============================] - 4s 110us/step - loss: 0.0239 - acc: 0.9920\n",
      "Epoch 3/20\n",
      "33600/33600 [==============================] - 4s 122us/step - loss: 0.0176 - acc: 0.9941\n",
      "Epoch 4/20\n",
      "33600/33600 [==============================] - 4s 120us/step - loss: 0.0137 - acc: 0.9952\n",
      "Epoch 5/20\n",
      "33600/33600 [==============================] - 4s 105us/step - loss: 0.0097 - acc: 0.9967\n",
      "Epoch 6/20\n",
      "33600/33600 [==============================] - 4s 106us/step - loss: 0.0095 - acc: 0.9968\n",
      "Epoch 7/20\n",
      "33600/33600 [==============================] - 4s 110us/step - loss: 0.0075 - acc: 0.9975\n",
      "Epoch 8/20\n",
      "33600/33600 [==============================] - 4s 109us/step - loss: 0.0065 - acc: 0.9978\n",
      "Epoch 9/20\n",
      "33600/33600 [==============================] - 3s 104us/step - loss: 0.0063 - acc: 0.9979\n",
      "Epoch 10/20\n",
      "33600/33600 [==============================] - 4s 108us/step - loss: 0.0057 - acc: 0.9981\n",
      "Epoch 11/20\n",
      "33600/33600 [==============================] - 4s 108us/step - loss: 0.0050 - acc: 0.9984\n",
      "Epoch 12/20\n",
      "33600/33600 [==============================] - 4s 110us/step - loss: 0.0046 - acc: 0.9984\n",
      "Epoch 13/20\n",
      "33600/33600 [==============================] - 4s 106us/step - loss: 0.0039 - acc: 0.9988\n",
      "Epoch 14/20\n",
      "33600/33600 [==============================] - 4s 106us/step - loss: 0.0040 - acc: 0.9987\n",
      "Epoch 15/20\n",
      "33600/33600 [==============================] - 4s 110us/step - loss: 0.0036 - acc: 0.9988\n",
      "Epoch 16/20\n",
      "33600/33600 [==============================] - 4s 114us/step - loss: 0.0033 - acc: 0.9990\n",
      "Epoch 17/20\n",
      "33600/33600 [==============================] - 4s 115us/step - loss: 0.0035 - acc: 0.9989\n",
      "Epoch 18/20\n",
      "33600/33600 [==============================] - 4s 109us/step - loss: 0.0032 - acc: 0.9989\n",
      "Epoch 19/20\n",
      "33600/33600 [==============================] - 4s 115us/step - loss: 0.0036 - acc: 0.9989\n",
      "Epoch 20/20\n",
      "33600/33600 [==============================] - 4s 119us/step - loss: 0.0027 - acc: 0.9991\n",
      "8400/8400 [==============================] - 1s 73us/step\n",
      "\n",
      "acc: 99.47%\n"
     ]
    }
   ],
   "source": [
    "from keras.models import Sequential\n",
    "model=Sequential()\n",
    "model.add(Dense(100, input_dim=784, activation='relu'))\n",
    "model.add(Dense(500, activation='relu'))\n",
    "model.add(Dense(150, activation='relu'))\n",
    "model.add(Dense(500, activation='relu'))\n",
    "model.add(Dense(10, activation='softmax'))\n",
    "# Compile model\n",
    "model.compile(loss='binary_crossentropy', optimizer='adam', metrics=['accuracy'])\n",
    "# Fit the model\n",
    "model.fit(trainx,trainy, epochs=20, batch_size=100)\n",
    "# evaluate the model\n",
    "scores = model.evaluate(valx,valy)\n",
    "print(\"\\n%s: %.2f%%\" % (model.metrics_names[1], scores[1]*100))"
   ]
  }
 ],
 "metadata": {
  "kernelspec": {
   "display_name": "Python 3",
   "language": "python",
   "name": "python3"
  },
  "language_info": {
   "codemirror_mode": {
    "name": "ipython",
    "version": 3
   },
   "file_extension": ".py",
   "mimetype": "text/x-python",
   "name": "python",
   "nbconvert_exporter": "python",
   "pygments_lexer": "ipython3",
   "version": "3.6.3"
  }
 },
 "nbformat": 4,
 "nbformat_minor": 2
}
